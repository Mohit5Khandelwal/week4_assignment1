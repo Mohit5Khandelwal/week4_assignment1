{
 "cells": [
  {
   "attachments": {},
   "cell_type": "markdown",
   "metadata": {},
   "source": [
    "Q1, Create a vehicle class with an init method having instance variables as name_of_vehicle, max_speed \n",
    "and average_of_vehicle."
   ]
  },
  {
   "cell_type": "code",
   "execution_count": null,
   "metadata": {},
   "outputs": [],
   "source": [
    "class vehicle:\n",
    "\n",
    "    def __init__(self, name_of_vehicle, max_speed, average_of_vehicle):\n",
    "        self.name_of_vehicle = name_of_vehicle\n",
    "        self.max_speed = max_speed\n",
    "        self.average_of_vehicle = average_of_vehicle\n",
    "\n",
    "    def get_car_name(self):\n",
    "        return self.name_of_vehicle\n"
   ]
  },
  {
   "attachments": {},
   "cell_type": "markdown",
   "metadata": {},
   "source": [
    "Q2.  Create a child class car from the vehicle class created in Que 1, which will inherit the vehicle class. \n",
    "Create a method named seating_capacity which takes capacity as an argument and returns the name of \n",
    "the vehicle and its seating capacity"
   ]
  },
  {
   "cell_type": "code",
   "execution_count": 11,
   "metadata": {},
   "outputs": [
    {
     "data": {
      "text/plain": [
       "'The Alto has seating capacity of 5'"
      ]
     },
     "execution_count": 11,
     "metadata": {},
     "output_type": "execute_result"
    }
   ],
   "source": [
    "class vehicle:\n",
    "\n",
    "    def __init__(self, name_of_vehicle, max_speed, average_of_vehicle):\n",
    "        self.name_of_vehicle = name_of_vehicle\n",
    "        self.max_speed = max_speed\n",
    "        self.average_of_vehicle = average_of_vehicle\n",
    "\n",
    "    def get_car_name(self):\n",
    "        return self.name_of_vehicle\n",
    "\n",
    "\n",
    "# creating an child class car \n",
    "class car( vehicle ):\n",
    "\n",
    "    def __init__( self, name , speed , avspeed ):\n",
    "        super().__init__( name, speed , avspeed )\n",
    "    \n",
    "    def seating_capacity( self, capacity ):\n",
    "        return f\"The {self.name_of_vehicle} has seating capacity of {capacity}\"\n",
    "\n",
    "my_car = car( \"Alto\" , 45 , 12 )\n",
    "\n",
    "my_car.seating_capacity( 5 )\n",
    "\n"
   ]
  },
  {
   "attachments": {},
   "cell_type": "markdown",
   "metadata": {},
   "source": [
    "Q3. What is multiple inheritance? Write a python code to demonstrate multiple inheritance ?\n",
    "\n",
    "    In multiple inheritance, a child class can inherit attributes and methods from more than one parent class."
   ]
  },
  {
   "cell_type": "code",
   "execution_count": 13,
   "metadata": {},
   "outputs": [
    {
     "name": "stdout",
     "output_type": "stream",
     "text": [
      "I am from parent 1 \n",
      "I am from parent 2 \n"
     ]
    }
   ],
   "source": [
    "class parent1:\n",
    "\n",
    "    def fun1(self):\n",
    "        print(\"I am from parent 1 \")\n",
    "\n",
    "class parent2:\n",
    "\n",
    "    def fun2(self):\n",
    "        print(\"I am from parent 2 \")\n",
    "\n",
    "class child( parent1, parent2 ):\n",
    "    pass \n",
    "\n",
    "obj = child()\n",
    "\n",
    "obj.fun1()\n",
    "obj.fun2()"
   ]
  },
  {
   "attachments": {},
   "cell_type": "markdown",
   "metadata": {},
   "source": [
    "Q4. What are getter and setter in python? Create a class and create a getter and a setter method in this \n",
    "class?\n",
    "\n",
    "Through getter and setter in class we can get or set the value of attributes in an class "
   ]
  },
  {
   "cell_type": "code",
   "execution_count": 21,
   "metadata": {},
   "outputs": [
    {
     "name": "stdout",
     "output_type": "stream",
     "text": [
      "Alto   4500\n",
      "Swift   789\n"
     ]
    }
   ],
   "source": [
    "class vehicle:\n",
    "\n",
    "    def __init__(self, name, price):\n",
    "        self.name = name\n",
    "        self.price = price\n",
    "    \n",
    "    # Getter for getting the price and name of car \n",
    "    def get_car_name(self):\n",
    "        return self.name\n",
    "    \n",
    "    def get_car_price(self):\n",
    "        return self.price\n",
    "\n",
    "    # Setter to set the price and name of car\n",
    "    def set_car_price(self, price):\n",
    "        self.price = price\n",
    "    \n",
    "    def set_car_name(self, name):\n",
    "        self.name = name\n",
    "\n",
    "obj = vehicle( \"Alto\", 4500 )\n",
    "\n",
    "print( obj.get_car_name() , \" \" , obj.get_car_price() )\n",
    "\n",
    "obj.set_car_name( \"Swift\" )\n",
    "obj.set_car_price( 789 )\n",
    "\n",
    "print( obj.get_car_name() , \" \" , obj.get_car_price() )"
   ]
  },
  {
   "attachments": {},
   "cell_type": "markdown",
   "metadata": {},
   "source": [
    "Q5.What is method overriding in python? Write a python code to demonstrate method overriding.\n",
    "\n",
    "    Method overriding in Python is a concept that allows a child class to provide its own implementation of a method that is already defined in its parent class."
   ]
  },
  {
   "cell_type": "code",
   "execution_count": 23,
   "metadata": {},
   "outputs": [
    {
     "name": "stdout",
     "output_type": "stream",
     "text": [
      "Hey I am in parent class\n",
      "Hey I am in child class\n"
     ]
    }
   ],
   "source": [
    "class parent:\n",
    "\n",
    "    def say_hello(self):\n",
    "        print(\"Hey I am in parent class\")\n",
    "\n",
    "class child( parent ):\n",
    "\n",
    "    def say_hello(self):\n",
    "        print(\"Hey I am in child class\")\n",
    "\n",
    "parent_obj = parent()\n",
    "child_obj  = child()\n",
    "\n",
    "parent_obj.say_hello()\n",
    "child_obj.say_hello()"
   ]
  }
 ],
 "metadata": {
  "kernelspec": {
   "display_name": "Python 3",
   "language": "python",
   "name": "python3"
  },
  "language_info": {
   "codemirror_mode": {
    "name": "ipython",
    "version": 3
   },
   "file_extension": ".py",
   "mimetype": "text/x-python",
   "name": "python",
   "nbconvert_exporter": "python",
   "pygments_lexer": "ipython3",
   "version": "3.10.7"
  },
  "orig_nbformat": 4
 },
 "nbformat": 4,
 "nbformat_minor": 2
}
